{
 "cells": [
  {
   "cell_type": "code",
   "execution_count": null,
   "id": "9238961c-6af0-4e67-9e14-f6799b580417",
   "metadata": {},
   "outputs": [],
   "source": [
    "!rm -rf CroppedResults/"
   ]
  },
  {
   "cell_type": "code",
   "execution_count": null,
   "id": "a0d0a19b-ad47-44e8-bed4-4c6d041d21f0",
   "metadata": {
    "scrolled": true
   },
   "outputs": [],
   "source": [
    "import os\n",
    "from PIL import Image\n",
    "from ultralytics import YOLO\n",
    "\n",
    "model = YOLO(\"runs/detect/train11/weights/best.pt\")\n",
    "\n",
    "test_folder = \"yolo_data/images/test\"\n",
    "output_folder = \"CroppedResults\"\n",
    "os.makedirs(output_folder, exist_ok=True)\n",
    "\n",
    "for fname in os.listdir(test_folder):\n",
    "    \n",
    "    img_path = os.path.join(test_folder, fname)\n",
    "\n",
    "    results = model.predict(source=img_path, conf=0.4, verbose=False)\n",
    "    boxes = results[0].boxes\n",
    "    img = Image.open(img_path)\n",
    "\n",
    "    if len(boxes) > 0:\n",
    "        most_confident = sorted(boxes, key=lambda b: b.conf[0].item(), reverse=True)[0]\n",
    "        x1, y1, x2, y2 = most_confident.xyxy[0].tolist()\n",
    "\n",
    "        cropped = img.crop((x1, y1, x2, y2))\n",
    "        save_path = os.path.join(output_folder, f\"cropped_{fname}\")\n",
    "        cropped.save(save_path)\n",
    "        print(f\"Saved: {save_path}\")\n",
    "    else:\n",
    "        print(f\"No license plate detected in: {fname}\")\n"
   ]
  },
  {
   "cell_type": "code",
   "execution_count": null,
   "id": "9d79b8b7-059b-44b7-bc5c-05d99297cdde",
   "metadata": {},
   "outputs": [],
   "source": [
    "!zip -r cropped_results.zip CroppedResults/"
   ]
  },
  {
   "cell_type": "code",
   "execution_count": null,
   "id": "5cf89bc0-782e-4ff2-a9ae-cfc0bdd9b356",
   "metadata": {},
   "outputs": [],
   "source": [
    "import shutil\n",
    "\n",
    "# Zip the folder: \"CroppedResults/\" -> \"cropped_results.zip\"\n",
    "shutil.make_archive(\"cropped_results\", 'zip', \"CroppedResults\")"
   ]
  },
  {
   "cell_type": "code",
   "execution_count": null,
   "id": "a6a82a9b-9f35-4d0a-840a-9a5e498a5f10",
   "metadata": {},
   "outputs": [],
   "source": []
  }
 ],
 "metadata": {
  "kernelspec": {
   "display_name": "Python 3 (ipykernel)",
   "language": "python",
   "name": "python3"
  },
  "language_info": {
   "codemirror_mode": {
    "name": "ipython",
    "version": 3
   },
   "file_extension": ".py",
   "mimetype": "text/x-python",
   "name": "python",
   "nbconvert_exporter": "python",
   "pygments_lexer": "ipython3",
   "version": "3.11.6"
  }
 },
 "nbformat": 4,
 "nbformat_minor": 5
}
